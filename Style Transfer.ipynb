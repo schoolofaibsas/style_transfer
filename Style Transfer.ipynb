{
 "cells": [
  {
   "cell_type": "markdown",
   "metadata": {},
   "source": [
    "# Evento 5-10-2018 - Style Transfer\n",
    "\n",
    "## Objetivos\n",
    "\n",
    "Lograr capturar la esencia (o \"contenido\") de una imagen, para luego ser re-pintada utilizando un \"estilo\" capturado de otra imagen (o pintura).\n",
    "\n",
    "## Requerimientos\n",
    "\n",
    "Utilizar el contenedor Docker que hemos preparado.\n",
    "\n",
    "## Framework\n",
    "\n",
    "Vamos a emplear el framework Keras para la ejecución del modelo.\n",
    "Utilizaremos una red neuronal entrenada: VGG-16.\n",
    "\n"
   ]
  }
 ],
 "metadata": {
  "kernelspec": {
   "display_name": "Python 3",
   "language": "python",
   "name": "python3"
  },
  "language_info": {
   "codemirror_mode": {
    "name": "ipython",
    "version": 3
   },
   "file_extension": ".py",
   "mimetype": "text/x-python",
   "name": "python",
   "nbconvert_exporter": "python",
   "pygments_lexer": "ipython3",
   "version": "3.6.3"
  }
 },
 "nbformat": 4,
 "nbformat_minor": 2
}
